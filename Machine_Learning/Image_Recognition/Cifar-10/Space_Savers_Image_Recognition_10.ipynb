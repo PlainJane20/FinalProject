{
  "nbformat": 4,
  "nbformat_minor": 0,
  "metadata": {
    "colab": {
      "name": "Space_Savers_Image_Recognition.ipynb",
      "provenance": [],
      "collapsed_sections": []
    },
    "kernelspec": {
      "name": "python3",
      "display_name": "Python 3"
    },
    "language_info": {
      "name": "python"
    }
  },
  "cells": [
    {
      "cell_type": "markdown",
      "metadata": {
        "id": "-0c8xyziKl-B"
      },
      "source": [
        "**Image Recognition in Pyhton with Tenserflow and Keras**\n"
      ]
    },
    {
      "cell_type": "code",
      "metadata": {
        "id": "mKeoVQLqz1YW"
      },
      "source": [
        "import numpy\n",
        "from keras.models import Sequential\n",
        "from keras.layers import Dense, Dropout, Flatten, BatchNormalization, Activation\n",
        "from keras.layers.convolutional import Conv2D, MaxPooling2D\n",
        "from keras.constraints import maxnorm\n",
        "from keras.utils import np_utils"
      ],
      "execution_count": 1,
      "outputs": []
    },
    {
      "cell_type": "code",
      "metadata": {
        "id": "1fxzO8Pr0GRv"
      },
      "source": [
        "# Set random seed for purposes of reproducibility\n",
        "seed = 21"
      ],
      "execution_count": 2,
      "outputs": []
    },
    {
      "cell_type": "code",
      "metadata": {
        "id": "8skd8Q8s0Z4X"
      },
      "source": [
        "from keras.datasets import cifar10"
      ],
      "execution_count": 3,
      "outputs": []
    },
    {
      "cell_type": "code",
      "metadata": {
        "id": "bZ26qMSS0j45",
        "colab": {
          "base_uri": "https://localhost:8080/"
        },
        "outputId": "72efafa6-57c1-4153-de7e-326af30fe38a"
      },
      "source": [
        "# loading in the data\n",
        "(X_train, y_train), (X_test, y_test) = cifar10.load_data()"
      ],
      "execution_count": 5,
      "outputs": [
        {
          "output_type": "stream",
          "text": [
            "Downloading data from https://www.cs.toronto.edu/~kriz/cifar-10-python.tar.gz\n",
            "170500096/170498071 [==============================] - 6s 0us/step\n"
          ],
          "name": "stdout"
        }
      ]
    },
    {
      "cell_type": "code",
      "metadata": {
        "id": "xEhnAzvE1EIU"
      },
      "source": [
        "# normalize the inputs from 0-255 to between 0 and 1 by dividing by 255\n",
        "X_train = X_train.astype('float32')\n",
        "X_test = X_test.astype('float32')\n",
        "X_train = X_train / 255.0\n",
        "X_test = X_test / 255.0"
      ],
      "execution_count": 6,
      "outputs": []
    },
    {
      "cell_type": "code",
      "metadata": {
        "id": "tgvvrqhUJqm0"
      },
      "source": [
        "# one hot encode outputs\n",
        "y_train = np_utils.to_categorical(y_train)\n",
        "y_test = np_utils.to_categorical(y_test)\n",
        "class_num = y_test.shape[1]"
      ],
      "execution_count": 7,
      "outputs": []
    },
    {
      "cell_type": "markdown",
      "metadata": {
        "id": "2JX3L716KfRy"
      },
      "source": [
        "**Create the Model**\n"
      ]
    },
    {
      "cell_type": "code",
      "metadata": {
        "id": "6rKxWv4oKNWS"
      },
      "source": [
        "model = Sequential()"
      ],
      "execution_count": 8,
      "outputs": []
    },
    {
      "cell_type": "code",
      "metadata": {
        "id": "lU5wyBm5LFqy"
      },
      "source": [
        "model.add(Conv2D(32, (3, 3), input_shape=X_train.shape[1:], padding='same'))\n",
        "model.add(Activation('relu'))"
      ],
      "execution_count": 9,
      "outputs": []
    },
    {
      "cell_type": "code",
      "metadata": {
        "id": "NUaSyoIOMqiM"
      },
      "source": [
        "model.add(Dropout(0.2))"
      ],
      "execution_count": 10,
      "outputs": []
    },
    {
      "cell_type": "code",
      "metadata": {
        "id": "TQnnRSOAMxH7"
      },
      "source": [
        "model.add(BatchNormalization())"
      ],
      "execution_count": 11,
      "outputs": []
    },
    {
      "cell_type": "code",
      "metadata": {
        "id": "ZoQc768yM26m"
      },
      "source": [
        "model.add(Conv2D(64, (3, 3), padding='same'))\n",
        "model.add(Activation('relu'))"
      ],
      "execution_count": 12,
      "outputs": []
    },
    {
      "cell_type": "code",
      "metadata": {
        "id": "kJb74ByNM_mY"
      },
      "source": [
        "model.add(MaxPooling2D(pool_size=(2, 2)))\n",
        "model.add(Dropout(0.2))\n",
        "model.add(BatchNormalization())"
      ],
      "execution_count": 13,
      "outputs": []
    },
    {
      "cell_type": "code",
      "metadata": {
        "id": "GV-x93g2NUpm"
      },
      "source": [
        "model.add(Conv2D(64, (3, 3), padding='same'))\n",
        "model.add(Activation('relu'))\n",
        "model.add(MaxPooling2D(pool_size=(2, 2)))\n",
        "model.add(Dropout(0.2))\n",
        "model.add(BatchNormalization())\n",
        "    \n",
        "model.add(Conv2D(128, (3, 3), padding='same'))\n",
        "model.add(Activation('relu'))\n",
        "model.add(Dropout(0.2))\n",
        "model.add(BatchNormalization())"
      ],
      "execution_count": 14,
      "outputs": []
    },
    {
      "cell_type": "code",
      "metadata": {
        "id": "tZFdDAt6NfZj"
      },
      "source": [
        "model.add(Flatten())\n",
        "model.add(Dropout(0.2))"
      ],
      "execution_count": 15,
      "outputs": []
    },
    {
      "cell_type": "code",
      "metadata": {
        "id": "jyhKLaRDNsFz"
      },
      "source": [
        "model.add(Dense(256, kernel_constraint=maxnorm(3)))\n",
        "model.add(Activation('relu'))\n",
        "model.add(Dropout(0.2))\n",
        "model.add(BatchNormalization())\n",
        "    \n",
        "model.add(Dense(128, kernel_constraint=maxnorm(3)))\n",
        "model.add(Activation('relu'))\n",
        "model.add(Dropout(0.2))\n",
        "model.add(BatchNormalization())"
      ],
      "execution_count": 16,
      "outputs": []
    },
    {
      "cell_type": "code",
      "metadata": {
        "id": "LO8sVWU2Numa"
      },
      "source": [
        "model.add(Dense(class_num))\n",
        "model.add(Activation('softmax'))"
      ],
      "execution_count": 17,
      "outputs": []
    },
    {
      "cell_type": "code",
      "metadata": {
        "id": "pVlkjDhbN7XJ"
      },
      "source": [
        "epochs = 25\n",
        "optimizer = 'adam'"
      ],
      "execution_count": 18,
      "outputs": []
    },
    {
      "cell_type": "code",
      "metadata": {
        "id": "CRQLzIDJOGdT"
      },
      "source": [
        "model.compile(loss='categorical_crossentropy', optimizer=optimizer, metrics=['accuracy'])"
      ],
      "execution_count": 19,
      "outputs": []
    },
    {
      "cell_type": "code",
      "metadata": {
        "colab": {
          "base_uri": "https://localhost:8080/"
        },
        "id": "zzKQjLWUOMd9",
        "outputId": "88fdf746-e804-4c40-d46a-594c65c8ff3a"
      },
      "source": [
        "print(model.summary())\n"
      ],
      "execution_count": 20,
      "outputs": [
        {
          "output_type": "stream",
          "text": [
            "Model: \"sequential\"\n",
            "_________________________________________________________________\n",
            "Layer (type)                 Output Shape              Param #   \n",
            "=================================================================\n",
            "conv2d (Conv2D)              (None, 32, 32, 32)        896       \n",
            "_________________________________________________________________\n",
            "activation (Activation)      (None, 32, 32, 32)        0         \n",
            "_________________________________________________________________\n",
            "dropout (Dropout)            (None, 32, 32, 32)        0         \n",
            "_________________________________________________________________\n",
            "batch_normalization (BatchNo (None, 32, 32, 32)        128       \n",
            "_________________________________________________________________\n",
            "conv2d_1 (Conv2D)            (None, 32, 32, 64)        18496     \n",
            "_________________________________________________________________\n",
            "activation_1 (Activation)    (None, 32, 32, 64)        0         \n",
            "_________________________________________________________________\n",
            "max_pooling2d (MaxPooling2D) (None, 16, 16, 64)        0         \n",
            "_________________________________________________________________\n",
            "dropout_1 (Dropout)          (None, 16, 16, 64)        0         \n",
            "_________________________________________________________________\n",
            "batch_normalization_1 (Batch (None, 16, 16, 64)        256       \n",
            "_________________________________________________________________\n",
            "conv2d_2 (Conv2D)            (None, 16, 16, 64)        36928     \n",
            "_________________________________________________________________\n",
            "activation_2 (Activation)    (None, 16, 16, 64)        0         \n",
            "_________________________________________________________________\n",
            "max_pooling2d_1 (MaxPooling2 (None, 8, 8, 64)          0         \n",
            "_________________________________________________________________\n",
            "dropout_2 (Dropout)          (None, 8, 8, 64)          0         \n",
            "_________________________________________________________________\n",
            "batch_normalization_2 (Batch (None, 8, 8, 64)          256       \n",
            "_________________________________________________________________\n",
            "conv2d_3 (Conv2D)            (None, 8, 8, 128)         73856     \n",
            "_________________________________________________________________\n",
            "activation_3 (Activation)    (None, 8, 8, 128)         0         \n",
            "_________________________________________________________________\n",
            "dropout_3 (Dropout)          (None, 8, 8, 128)         0         \n",
            "_________________________________________________________________\n",
            "batch_normalization_3 (Batch (None, 8, 8, 128)         512       \n",
            "_________________________________________________________________\n",
            "flatten (Flatten)            (None, 8192)              0         \n",
            "_________________________________________________________________\n",
            "dropout_4 (Dropout)          (None, 8192)              0         \n",
            "_________________________________________________________________\n",
            "dense (Dense)                (None, 256)               2097408   \n",
            "_________________________________________________________________\n",
            "activation_4 (Activation)    (None, 256)               0         \n",
            "_________________________________________________________________\n",
            "dropout_5 (Dropout)          (None, 256)               0         \n",
            "_________________________________________________________________\n",
            "batch_normalization_4 (Batch (None, 256)               1024      \n",
            "_________________________________________________________________\n",
            "dense_1 (Dense)              (None, 128)               32896     \n",
            "_________________________________________________________________\n",
            "activation_5 (Activation)    (None, 128)               0         \n",
            "_________________________________________________________________\n",
            "dropout_6 (Dropout)          (None, 128)               0         \n",
            "_________________________________________________________________\n",
            "batch_normalization_5 (Batch (None, 128)               512       \n",
            "_________________________________________________________________\n",
            "dense_2 (Dense)              (None, 10)                1290      \n",
            "_________________________________________________________________\n",
            "activation_6 (Activation)    (None, 10)                0         \n",
            "=================================================================\n",
            "Total params: 2,264,458\n",
            "Trainable params: 2,263,114\n",
            "Non-trainable params: 1,344\n",
            "_________________________________________________________________\n",
            "None\n"
          ],
          "name": "stdout"
        }
      ]
    },
    {
      "cell_type": "code",
      "metadata": {
        "colab": {
          "base_uri": "https://localhost:8080/"
        },
        "id": "Ly_Km1yWOUYq",
        "outputId": "04c22125-2ece-4054-f273-eb54d29a6d6b"
      },
      "source": [
        "numpy.random.seed(seed)\n",
        "model.fit(X_train, y_train, validation_data=(X_test, y_test), epochs=epochs, batch_size=64)"
      ],
      "execution_count": 21,
      "outputs": [
        {
          "output_type": "stream",
          "text": [
            "Epoch 1/25\n",
            "782/782 [==============================] - 353s 450ms/step - loss: 1.8076 - accuracy: 0.3772 - val_loss: 1.2413 - val_accuracy: 0.5575\n",
            "Epoch 2/25\n",
            "782/782 [==============================] - 349s 446ms/step - loss: 1.0937 - accuracy: 0.6106 - val_loss: 0.9260 - val_accuracy: 0.6748\n",
            "Epoch 3/25\n",
            "782/782 [==============================] - 348s 445ms/step - loss: 0.8852 - accuracy: 0.6903 - val_loss: 0.7635 - val_accuracy: 0.7347\n",
            "Epoch 4/25\n",
            "782/782 [==============================] - 348s 445ms/step - loss: 0.7788 - accuracy: 0.7240 - val_loss: 0.7010 - val_accuracy: 0.7525\n",
            "Epoch 5/25\n",
            "782/782 [==============================] - 348s 445ms/step - loss: 0.7037 - accuracy: 0.7540 - val_loss: 0.6486 - val_accuracy: 0.7724\n",
            "Epoch 6/25\n",
            "782/782 [==============================] - 348s 446ms/step - loss: 0.6443 - accuracy: 0.7734 - val_loss: 0.6941 - val_accuracy: 0.7534\n",
            "Epoch 7/25\n",
            "782/782 [==============================] - 348s 445ms/step - loss: 0.6173 - accuracy: 0.7842 - val_loss: 0.6942 - val_accuracy: 0.7514\n",
            "Epoch 8/25\n",
            "782/782 [==============================] - 348s 445ms/step - loss: 0.5901 - accuracy: 0.7924 - val_loss: 0.6961 - val_accuracy: 0.7628\n",
            "Epoch 9/25\n",
            "782/782 [==============================] - 348s 445ms/step - loss: 0.5524 - accuracy: 0.8076 - val_loss: 0.5827 - val_accuracy: 0.8026\n",
            "Epoch 10/25\n",
            "782/782 [==============================] - 347s 444ms/step - loss: 0.5442 - accuracy: 0.8129 - val_loss: 0.5782 - val_accuracy: 0.8005\n",
            "Epoch 11/25\n",
            "782/782 [==============================] - 348s 445ms/step - loss: 0.5184 - accuracy: 0.8185 - val_loss: 0.5587 - val_accuracy: 0.8109\n",
            "Epoch 12/25\n",
            "782/782 [==============================] - 347s 444ms/step - loss: 0.5104 - accuracy: 0.8221 - val_loss: 0.5541 - val_accuracy: 0.8096\n",
            "Epoch 13/25\n",
            "782/782 [==============================] - 348s 445ms/step - loss: 0.4860 - accuracy: 0.8296 - val_loss: 0.5896 - val_accuracy: 0.7969\n",
            "Epoch 14/25\n",
            "782/782 [==============================] - 348s 445ms/step - loss: 0.4751 - accuracy: 0.8347 - val_loss: 0.5581 - val_accuracy: 0.8095\n",
            "Epoch 15/25\n",
            "782/782 [==============================] - 348s 445ms/step - loss: 0.4623 - accuracy: 0.8406 - val_loss: 0.5524 - val_accuracy: 0.8150\n",
            "Epoch 16/25\n",
            "782/782 [==============================] - 346s 442ms/step - loss: 0.4466 - accuracy: 0.8427 - val_loss: 0.5332 - val_accuracy: 0.8199\n",
            "Epoch 17/25\n",
            "782/782 [==============================] - 345s 441ms/step - loss: 0.4466 - accuracy: 0.8432 - val_loss: 0.5706 - val_accuracy: 0.8079\n",
            "Epoch 18/25\n",
            "782/782 [==============================] - 349s 446ms/step - loss: 0.4315 - accuracy: 0.8517 - val_loss: 0.5593 - val_accuracy: 0.8129\n",
            "Epoch 19/25\n",
            "782/782 [==============================] - 349s 446ms/step - loss: 0.4258 - accuracy: 0.8521 - val_loss: 0.5358 - val_accuracy: 0.8198\n",
            "Epoch 20/25\n",
            "782/782 [==============================] - 348s 445ms/step - loss: 0.4244 - accuracy: 0.8499 - val_loss: 0.5226 - val_accuracy: 0.8204\n",
            "Epoch 21/25\n",
            "782/782 [==============================] - 348s 445ms/step - loss: 0.4073 - accuracy: 0.8588 - val_loss: 0.5859 - val_accuracy: 0.8070\n",
            "Epoch 22/25\n",
            "782/782 [==============================] - 347s 444ms/step - loss: 0.4071 - accuracy: 0.8611 - val_loss: 0.5204 - val_accuracy: 0.8269\n",
            "Epoch 23/25\n",
            "782/782 [==============================] - 348s 446ms/step - loss: 0.4003 - accuracy: 0.8603 - val_loss: 0.5265 - val_accuracy: 0.8227\n",
            "Epoch 24/25\n",
            "782/782 [==============================] - 348s 446ms/step - loss: 0.3991 - accuracy: 0.8611 - val_loss: 0.5342 - val_accuracy: 0.8182\n",
            "Epoch 25/25\n",
            "782/782 [==============================] - 349s 446ms/step - loss: 0.4039 - accuracy: 0.8561 - val_loss: 0.5152 - val_accuracy: 0.8289\n"
          ],
          "name": "stdout"
        },
        {
          "output_type": "execute_result",
          "data": {
            "text/plain": [
              "<tensorflow.python.keras.callbacks.History at 0x7f483a43ec50>"
            ]
          },
          "metadata": {
            "tags": []
          },
          "execution_count": 21
        }
      ]
    }
  ]
}