{
  "nbformat": 4,
  "nbformat_minor": 0,
  "metadata": {
    "colab": {
      "name": "Space_Savers_Image_Recognition.ipynb",
      "provenance": []
    },
    "kernelspec": {
      "name": "python3",
      "display_name": "Python 3"
    },
    "language_info": {
      "name": "python"
    }
  },
  "cells": [
    {
      "cell_type": "markdown",
      "metadata": {
        "id": "-0c8xyziKl-B"
      },
      "source": [
        "**Image Recognition in Pyhton with Tenserflow and Keras**\n"
      ]
    },
    {
      "cell_type": "code",
      "metadata": {
        "id": "mKeoVQLqz1YW"
      },
      "source": [
        "import numpy\n",
        "from keras.models import Sequential\n",
        "from keras.layers import Dense, Dropout, Flatten, BatchNormalization, Activation\n",
        "from keras.layers.convolutional import Conv2D, MaxPooling2D\n",
        "from keras.constraints import maxnorm\n",
        "from keras.utils import np_utils"
      ],
      "execution_count": 25,
      "outputs": []
    },
    {
      "cell_type": "code",
      "metadata": {
        "id": "1fxzO8Pr0GRv"
      },
      "source": [
        "# Set random seed for purposes of reproducibility\n",
        "seed = 21"
      ],
      "execution_count": 26,
      "outputs": []
    },
    {
      "cell_type": "code",
      "metadata": {
        "id": "8skd8Q8s0Z4X"
      },
      "source": [
        "from keras.datasets import cifar100"
      ],
      "execution_count": 27,
      "outputs": []
    },
    {
      "cell_type": "code",
      "metadata": {
        "id": "bZ26qMSS0j45"
      },
      "source": [
        "# loading in the data\n",
        "(X_train, y_train), (X_test, y_test) = cifar100.load_data()"
      ],
      "execution_count": 29,
      "outputs": []
    },
    {
      "cell_type": "code",
      "metadata": {
        "id": "xEhnAzvE1EIU"
      },
      "source": [
        "# normalize the inputs from 0-255 to between 0 and 1 by dividing by 255\n",
        "X_train = X_train.astype('float32')\n",
        "X_test = X_test.astype('float32')\n",
        "X_train = X_train / 255.0\n",
        "X_test = X_test / 255.0"
      ],
      "execution_count": 30,
      "outputs": []
    },
    {
      "cell_type": "code",
      "metadata": {
        "id": "tgvvrqhUJqm0"
      },
      "source": [
        "# one hot encode outputs\n",
        "y_train = np_utils.to_categorical(y_train)\n",
        "y_test = np_utils.to_categorical(y_test)\n",
        "class_num = y_test.shape[1]"
      ],
      "execution_count": 31,
      "outputs": []
    },
    {
      "cell_type": "markdown",
      "metadata": {
        "id": "2JX3L716KfRy"
      },
      "source": [
        "**Create the Model**\n"
      ]
    },
    {
      "cell_type": "code",
      "metadata": {
        "id": "6rKxWv4oKNWS"
      },
      "source": [
        "model = Sequential()"
      ],
      "execution_count": 32,
      "outputs": []
    },
    {
      "cell_type": "code",
      "metadata": {
        "id": "lU5wyBm5LFqy"
      },
      "source": [
        "model.add(Conv2D(32, (3, 3), input_shape=X_train.shape[1:], padding='same'))\n",
        "model.add(Activation('relu'))"
      ],
      "execution_count": 33,
      "outputs": []
    },
    {
      "cell_type": "code",
      "metadata": {
        "id": "NUaSyoIOMqiM"
      },
      "source": [
        "model.add(Dropout(0.2))"
      ],
      "execution_count": 34,
      "outputs": []
    },
    {
      "cell_type": "code",
      "metadata": {
        "id": "TQnnRSOAMxH7"
      },
      "source": [
        "model.add(BatchNormalization())"
      ],
      "execution_count": 35,
      "outputs": []
    },
    {
      "cell_type": "code",
      "metadata": {
        "id": "ZoQc768yM26m"
      },
      "source": [
        "model.add(Conv2D(64, (3, 3), padding='same'))\n",
        "model.add(Activation('relu'))"
      ],
      "execution_count": 36,
      "outputs": []
    },
    {
      "cell_type": "code",
      "metadata": {
        "id": "kJb74ByNM_mY"
      },
      "source": [
        "model.add(MaxPooling2D(pool_size=(2, 2)))\n",
        "model.add(Dropout(0.2))\n",
        "model.add(BatchNormalization())"
      ],
      "execution_count": 38,
      "outputs": []
    },
    {
      "cell_type": "code",
      "metadata": {
        "id": "GV-x93g2NUpm"
      },
      "source": [
        "model.add(Conv2D(64, (3, 3), padding='same'))\n",
        "model.add(Activation('relu'))\n",
        "model.add(MaxPooling2D(pool_size=(2, 2)))\n",
        "model.add(Dropout(0.2))\n",
        "model.add(BatchNormalization())\n",
        "    \n",
        "model.add(Conv2D(128, (3, 3), padding='same'))\n",
        "model.add(Activation('relu'))\n",
        "model.add(Dropout(0.2))\n",
        "model.add(BatchNormalization())"
      ],
      "execution_count": 39,
      "outputs": []
    },
    {
      "cell_type": "code",
      "metadata": {
        "id": "tZFdDAt6NfZj"
      },
      "source": [
        "model.add(Flatten())\n",
        "model.add(Dropout(0.2))"
      ],
      "execution_count": 40,
      "outputs": []
    },
    {
      "cell_type": "code",
      "metadata": {
        "id": "jyhKLaRDNsFz"
      },
      "source": [
        "model.add(Dense(256, kernel_constraint=maxnorm(3)))\n",
        "model.add(Activation('relu'))\n",
        "model.add(Dropout(0.2))\n",
        "model.add(BatchNormalization())\n",
        "    \n",
        "model.add(Dense(128, kernel_constraint=maxnorm(3)))\n",
        "model.add(Activation('relu'))\n",
        "model.add(Dropout(0.2))\n",
        "model.add(BatchNormalization())"
      ],
      "execution_count": 41,
      "outputs": []
    },
    {
      "cell_type": "code",
      "metadata": {
        "id": "LO8sVWU2Numa"
      },
      "source": [
        "model.add(Dense(class_num))\n",
        "model.add(Activation('softmax'))"
      ],
      "execution_count": 42,
      "outputs": []
    },
    {
      "cell_type": "code",
      "metadata": {
        "id": "pVlkjDhbN7XJ"
      },
      "source": [
        "epochs = 25\n",
        "optimizer = 'adam'"
      ],
      "execution_count": 43,
      "outputs": []
    },
    {
      "cell_type": "code",
      "metadata": {
        "id": "CRQLzIDJOGdT"
      },
      "source": [
        "model.compile(loss='categorical_crossentropy', optimizer=optimizer, metrics=['accuracy'])"
      ],
      "execution_count": 44,
      "outputs": []
    },
    {
      "cell_type": "code",
      "metadata": {
        "colab": {
          "base_uri": "https://localhost:8080/"
        },
        "id": "zzKQjLWUOMd9",
        "outputId": "74763dba-f408-4885-f99d-68f5cb8d9302"
      },
      "source": [
        "print(model.summary())\n"
      ],
      "execution_count": 45,
      "outputs": [
        {
          "output_type": "stream",
          "text": [
            "Model: \"sequential_1\"\n",
            "_________________________________________________________________\n",
            "Layer (type)                 Output Shape              Param #   \n",
            "=================================================================\n",
            "conv2d_4 (Conv2D)            (None, 32, 32, 32)        896       \n",
            "_________________________________________________________________\n",
            "activation_7 (Activation)    (None, 32, 32, 32)        0         \n",
            "_________________________________________________________________\n",
            "dropout_6 (Dropout)          (None, 32, 32, 32)        0         \n",
            "_________________________________________________________________\n",
            "batch_normalization_6 (Batch (None, 32, 32, 32)        128       \n",
            "_________________________________________________________________\n",
            "conv2d_5 (Conv2D)            (None, 32, 32, 64)        18496     \n",
            "_________________________________________________________________\n",
            "activation_8 (Activation)    (None, 32, 32, 64)        0         \n",
            "_________________________________________________________________\n",
            "max_pooling2d_2 (MaxPooling2 (None, 16, 16, 64)        0         \n",
            "_________________________________________________________________\n",
            "dropout_7 (Dropout)          (None, 16, 16, 64)        0         \n",
            "_________________________________________________________________\n",
            "batch_normalization_7 (Batch (None, 16, 16, 64)        256       \n",
            "_________________________________________________________________\n",
            "max_pooling2d_3 (MaxPooling2 (None, 8, 8, 64)          0         \n",
            "_________________________________________________________________\n",
            "dropout_8 (Dropout)          (None, 8, 8, 64)          0         \n",
            "_________________________________________________________________\n",
            "batch_normalization_8 (Batch (None, 8, 8, 64)          256       \n",
            "_________________________________________________________________\n",
            "conv2d_6 (Conv2D)            (None, 8, 8, 64)          36928     \n",
            "_________________________________________________________________\n",
            "activation_9 (Activation)    (None, 8, 8, 64)          0         \n",
            "_________________________________________________________________\n",
            "max_pooling2d_4 (MaxPooling2 (None, 4, 4, 64)          0         \n",
            "_________________________________________________________________\n",
            "dropout_9 (Dropout)          (None, 4, 4, 64)          0         \n",
            "_________________________________________________________________\n",
            "batch_normalization_9 (Batch (None, 4, 4, 64)          256       \n",
            "_________________________________________________________________\n",
            "conv2d_7 (Conv2D)            (None, 4, 4, 128)         73856     \n",
            "_________________________________________________________________\n",
            "activation_10 (Activation)   (None, 4, 4, 128)         0         \n",
            "_________________________________________________________________\n",
            "dropout_10 (Dropout)         (None, 4, 4, 128)         0         \n",
            "_________________________________________________________________\n",
            "batch_normalization_10 (Batc (None, 4, 4, 128)         512       \n",
            "_________________________________________________________________\n",
            "flatten (Flatten)            (None, 2048)              0         \n",
            "_________________________________________________________________\n",
            "dropout_11 (Dropout)         (None, 2048)              0         \n",
            "_________________________________________________________________\n",
            "dense_3 (Dense)              (None, 256)               524544    \n",
            "_________________________________________________________________\n",
            "activation_11 (Activation)   (None, 256)               0         \n",
            "_________________________________________________________________\n",
            "dropout_12 (Dropout)         (None, 256)               0         \n",
            "_________________________________________________________________\n",
            "batch_normalization_11 (Batc (None, 256)               1024      \n",
            "_________________________________________________________________\n",
            "dense_4 (Dense)              (None, 128)               32896     \n",
            "_________________________________________________________________\n",
            "activation_12 (Activation)   (None, 128)               0         \n",
            "_________________________________________________________________\n",
            "dropout_13 (Dropout)         (None, 128)               0         \n",
            "_________________________________________________________________\n",
            "batch_normalization_12 (Batc (None, 128)               512       \n",
            "_________________________________________________________________\n",
            "dense_5 (Dense)              (None, 100)               12900     \n",
            "_________________________________________________________________\n",
            "activation_13 (Activation)   (None, 100)               0         \n",
            "=================================================================\n",
            "Total params: 703,460\n",
            "Trainable params: 701,988\n",
            "Non-trainable params: 1,472\n",
            "_________________________________________________________________\n",
            "None\n"
          ],
          "name": "stdout"
        }
      ]
    },
    {
      "cell_type": "code",
      "metadata": {
        "colab": {
          "base_uri": "https://localhost:8080/"
        },
        "id": "Ly_Km1yWOUYq",
        "outputId": "80519c74-9d94-41f1-f0e7-baf53e2963f4"
      },
      "source": [
        "numpy.random.seed(seed)\n",
        "model.fit(X_train, y_train, validation_data=(X_test, y_test), epochs=epochs, batch_size=64)"
      ],
      "execution_count": 46,
      "outputs": [
        {
          "output_type": "stream",
          "text": [
            "Epoch 1/25\n",
            "782/782 [==============================] - 297s 377ms/step - loss: 4.3046 - accuracy: 0.0657 - val_loss: 4.2573 - val_accuracy: 0.0751\n",
            "Epoch 2/25\n",
            "782/782 [==============================] - 293s 375ms/step - loss: 3.4318 - accuracy: 0.1723 - val_loss: 3.4657 - val_accuracy: 0.1720\n",
            "Epoch 3/25\n",
            "782/782 [==============================] - 292s 374ms/step - loss: 3.0236 - accuracy: 0.2454 - val_loss: 2.8659 - val_accuracy: 0.2864\n",
            "Epoch 4/25\n",
            "782/782 [==============================] - 286s 365ms/step - loss: 2.7722 - accuracy: 0.2914 - val_loss: 2.7467 - val_accuracy: 0.3068\n",
            "Epoch 5/25\n",
            "782/782 [==============================] - 285s 364ms/step - loss: 2.6166 - accuracy: 0.3278 - val_loss: 2.4308 - val_accuracy: 0.3699\n",
            "Epoch 6/25\n",
            "782/782 [==============================] - 290s 371ms/step - loss: 2.4925 - accuracy: 0.3508 - val_loss: 2.2668 - val_accuracy: 0.4043\n",
            "Epoch 7/25\n",
            "782/782 [==============================] - 295s 377ms/step - loss: 2.4142 - accuracy: 0.3678 - val_loss: 2.3633 - val_accuracy: 0.3808\n",
            "Epoch 8/25\n",
            "782/782 [==============================] - 293s 374ms/step - loss: 2.3269 - accuracy: 0.3826 - val_loss: 2.4153 - val_accuracy: 0.3707\n",
            "Epoch 9/25\n",
            "782/782 [==============================] - 283s 362ms/step - loss: 2.2676 - accuracy: 0.3953 - val_loss: 2.2898 - val_accuracy: 0.3994\n",
            "Epoch 10/25\n",
            "782/782 [==============================] - 284s 363ms/step - loss: 2.2249 - accuracy: 0.4071 - val_loss: 2.2223 - val_accuracy: 0.4105\n",
            "Epoch 11/25\n",
            "782/782 [==============================] - 284s 363ms/step - loss: 2.1858 - accuracy: 0.4163 - val_loss: 2.2284 - val_accuracy: 0.4138\n",
            "Epoch 12/25\n",
            "782/782 [==============================] - 284s 364ms/step - loss: 2.1408 - accuracy: 0.4226 - val_loss: 2.0984 - val_accuracy: 0.4437\n",
            "Epoch 13/25\n",
            "782/782 [==============================] - 288s 368ms/step - loss: 2.1221 - accuracy: 0.4285 - val_loss: 2.1225 - val_accuracy: 0.4312\n",
            "Epoch 14/25\n",
            "782/782 [==============================] - 284s 363ms/step - loss: 2.0848 - accuracy: 0.4356 - val_loss: 2.0570 - val_accuracy: 0.4480\n",
            "Epoch 15/25\n",
            "782/782 [==============================] - 287s 367ms/step - loss: 2.0524 - accuracy: 0.4445 - val_loss: 2.0741 - val_accuracy: 0.4440\n",
            "Epoch 16/25\n",
            "782/782 [==============================] - 286s 366ms/step - loss: 2.0330 - accuracy: 0.4474 - val_loss: 2.0419 - val_accuracy: 0.4534\n",
            "Epoch 17/25\n",
            "782/782 [==============================] - 285s 365ms/step - loss: 2.0038 - accuracy: 0.4545 - val_loss: 2.0644 - val_accuracy: 0.4485\n",
            "Epoch 18/25\n",
            "782/782 [==============================] - 284s 363ms/step - loss: 2.0007 - accuracy: 0.4592 - val_loss: 1.9606 - val_accuracy: 0.4715\n",
            "Epoch 19/25\n",
            "782/782 [==============================] - 285s 365ms/step - loss: 1.9861 - accuracy: 0.4601 - val_loss: 2.0002 - val_accuracy: 0.4630\n",
            "Epoch 20/25\n",
            "782/782 [==============================] - 286s 365ms/step - loss: 1.9692 - accuracy: 0.4637 - val_loss: 2.0631 - val_accuracy: 0.4582\n",
            "Epoch 21/25\n",
            "782/782 [==============================] - 288s 368ms/step - loss: 1.9588 - accuracy: 0.4665 - val_loss: 2.0161 - val_accuracy: 0.4649\n",
            "Epoch 22/25\n",
            "782/782 [==============================] - 293s 375ms/step - loss: 1.9303 - accuracy: 0.4740 - val_loss: 2.0241 - val_accuracy: 0.4591\n",
            "Epoch 23/25\n",
            "782/782 [==============================] - 296s 378ms/step - loss: 1.9269 - accuracy: 0.4752 - val_loss: 2.0582 - val_accuracy: 0.4518\n",
            "Epoch 24/25\n",
            "782/782 [==============================] - 286s 366ms/step - loss: 1.9009 - accuracy: 0.4802 - val_loss: 2.0284 - val_accuracy: 0.4599\n",
            "Epoch 25/25\n",
            "782/782 [==============================] - 291s 372ms/step - loss: 1.9122 - accuracy: 0.4790 - val_loss: 1.9177 - val_accuracy: 0.4851\n"
          ],
          "name": "stdout"
        },
        {
          "output_type": "execute_result",
          "data": {
            "text/plain": [
              "<tensorflow.python.keras.callbacks.History at 0x7f1166347f90>"
            ]
          },
          "metadata": {
            "tags": []
          },
          "execution_count": 46
        }
      ]
    }
  ]
}